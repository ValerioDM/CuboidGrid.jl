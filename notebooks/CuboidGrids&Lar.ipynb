{
 "metadata": {
  "language_info": {
   "codemirror_mode": {
    "name": "ipython",
    "version": 3
   },
   "file_extension": ".py",
   "mimetype": "text/x-python",
   "name": "python",
   "nbconvert_exporter": "python",
   "pygments_lexer": "ipython3",
   "version": 3
  },
  "orig_nbformat": 2
 },
 "nbformat": 4,
 "nbformat_minor": 2,
 "cells": [
  {
   "cell_type": "code",
   "execution_count": null,
   "metadata": {},
   "outputs": [],
   "source": [
    "using CuboidGrids\n",
    "using LinearAlgebraicRepresentation\n",
    "using BnecmarkTools"
   ]
  },
  {
   "source": [
    "Execution of the whole system, same process of example_voxellization"
   ],
   "cell_type": "markdown",
   "metadata": {}
  },
  {
   "cell_type": "code",
   "execution_count": null,
   "metadata": {},
   "outputs": [],
   "source": [
    "println(\"@btime for general execution of the code: \")\n",
    "    @btime Lar.executeShowVoxels([10,20,10])"
   ]
  },
  {
   "source": [
    "Study of the performance before and after implementing distribution/multithreading tecniques"
   ],
   "cell_type": "markdown",
   "metadata": {}
  },
  {
   "cell_type": "code",
   "execution_count": null,
   "metadata": {},
   "outputs": [],
   "source": [
    "println(\"@btime for data preparation before visualization(with pmap maethods): \")\n",
    "    PAR1,PAR2 = @btime Lar.cuboidGrid([10,20,10])\n",
    "\n",
    "println(\"@btime for data preparation before visualization(with map maethods): \")\n",
    "    PAR1,PAR2 = @btime OlLar.cuboidGrid([10,20,10])"
   ]
  },
  {
   "source": [
    "...Adding pmap does not improve the performance in cuboidGrid\n",
    "To understand why, let's see the single sub functions with the same input"
   ],
   "cell_type": "markdown",
   "metadata": {}
  },
  {
   "cell_type": "code",
   "execution_count": null,
   "metadata": {},
   "outputs": [],
   "source": [
    "println(\"@btime for larImageVerts(with pmap maethods): \")\n",
    "    PAR1 = @btime Lar.larImageVerts([10,20,10])\n",
    "println(\"-----------------------------------------------------------------------\")\n",
    "println(\"@btime for larImageVerts(with map maethods): \")\n",
    "    PAR1 = @btime OlLar.larImageVerts([10,20,10])\n",
    "\n",
    "println(\"=======================================================================\")\n",
    "println(\"@btime for larGridSkeleton(with map maethods): \")\n",
    "    PAR1 = @btime Lar.larGridSkeleton([10,20,10])\n",
    "println(\"-----------------------------------------------------------------------\")\n",
    "println(\"@btime for larGridSkeleton(with map maethods): \")\n",
    "    PAR1 = @btime OlLar.larGridSkeleton([10,20,10])"
   ]
  },
  {
   "source": [
    "Performance appear to be worse if distributed strategies are applied. This can't be generally, there must be a problem somewhere.\n",
    "    Attempt made:\n",
    "        -The package that are needed are checked\n",
    "        -The macro and method sintax has been checked\n",
    "        -The settings of VSCode and Julia env has been chacked\n",
    "        -Other method for parallel computing has been checked and eventually discarded\n",
    "        -The very meaning of the code has been studied and trying to rewrite it has been discarded as the                   complexity of the new code would be too much even for parallelism tecniques\n",
    "\n",
    "The whole analisis code can be found in the bTimeAnalisis.jf file. "
   ],
   "cell_type": "markdown",
   "metadata": {}
  }
 ]
}